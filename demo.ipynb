{
 "cells": [
  {
   "cell_type": "code",
   "execution_count": 1,
   "metadata": {},
   "outputs": [],
   "source": [
    "# Import solver and display function from solver.py\n",
    "from solver import solve, display"
   ]
  },
  {
   "cell_type": "code",
   "execution_count": 2,
   "metadata": {},
   "outputs": [
    {
     "name": "stdout",
     "output_type": "stream",
     "text": [
      "Unsolved sudoku:\n",
      "+-------+-------+-------+\n",
      "|     2 |       |   7   |\n",
      "| 3     |   6   | 8 4   |\n",
      "| 5     | 2     | 9   3 |\n",
      "+-------+-------+-------+\n",
      "| 2 3   | 4 9   |       |\n",
      "| 9     |   2   | 7     |\n",
      "| 4 5   | 3   7 |     9 |\n",
      "+-------+-------+-------+\n",
      "|       |   8 2 | 6 9 5 |\n",
      "|       |     4 |   8 1 |\n",
      "|       |     1 | 4     |\n",
      "+-------+-------+-------+\n",
      "\n",
      "Solved sudoku:\n",
      "+-------+-------+-------+\n",
      "| 8 9 2 | 1 4 3 | 5 7 6 |\n",
      "| 3 7 1 | 5 6 9 | 8 4 2 |\n",
      "| 5 6 4 | 2 7 8 | 9 1 3 |\n",
      "+-------+-------+-------+\n",
      "| 2 3 7 | 4 9 6 | 1 5 8 |\n",
      "| 9 1 6 | 8 2 5 | 7 3 4 |\n",
      "| 4 5 8 | 3 1 7 | 2 6 9 |\n",
      "+-------+-------+-------+\n",
      "| 1 4 3 | 7 8 2 | 6 9 5 |\n",
      "| 7 2 9 | 6 5 4 | 3 8 1 |\n",
      "| 6 8 5 | 9 3 1 | 4 2 7 |\n",
      "+-------+-------+-------+\n"
     ]
    }
   ],
   "source": [
    "# Write sudoku into matrix. This sudoku is the Easy sudoku from the\n",
    "# Sunday 22nd May 2022 edition of The Sun-Herald.\n",
    "matrix = [\n",
    "    [0,0,2,  0,0,0,  0,7,0],\n",
    "    [3,0,0,  0,6,0,  8,4,0],\n",
    "    [5,0,0,  2,0,0,  9,0,3],\n",
    "\n",
    "    [2,3,0,  4,9,0,  0,0,0],\n",
    "    [9,0,0,  0,2,0,  7,0,0],\n",
    "    [4,5,0,  3,0,7,  0,0,9],\n",
    "\n",
    "    [0,0,0,  0,8,2,  6,9,5],\n",
    "    [0,0,0,  0,0,4,  0,8,1],\n",
    "    [0,0,0,  0,0,1,  4,0,0]\n",
    "]\n",
    "\n",
    "# Solve the sudoku\n",
    "solvedMatrix = solve(matrix)\n",
    "\n",
    "# Print both the solved and unsolved version\n",
    "print(\"Unsolved sudoku:\")\n",
    "display(matrix)\n",
    "\n",
    "print(\"\\nSolved sudoku:\")\n",
    "display(solvedMatrix)"
   ]
  },
  {
   "cell_type": "code",
   "execution_count": 3,
   "metadata": {},
   "outputs": [
    {
     "name": "stdout",
     "output_type": "stream",
     "text": [
      "Unsolved sudoku:\n",
      "+-------+-------+-------+\n",
      "|     2 |       |   7   |\n",
      "| 3     |   6   | 8 4   |\n",
      "| 5     | 2     | 9   3 |\n",
      "+-------+-------+-------+\n",
      "| 2 3   | 4 9   |       |\n",
      "| 9     |   2   | 7     |\n",
      "| 4 5   | 3   7 |     9 |\n",
      "+-------+-------+-------+\n",
      "|       |   8 2 | 6 9 5 |\n",
      "|       |     4 |   8 1 |\n",
      "|       |     1 | 4   2 |\n",
      "+-------+-------+-------+\n",
      "\n",
      "Solved sudoku:\n",
      "Not a valid solution.\n"
     ]
    }
   ],
   "source": [
    "# Same as above, but this time a 2 is written in the lower left, so\n",
    "# there is no valid solution.\n",
    "matrix = [\n",
    "    [0,0,2,  0,0,0,  0,7,0],\n",
    "    [3,0,0,  0,6,0,  8,4,0],\n",
    "    [5,0,0,  2,0,0,  9,0,3],\n",
    "\n",
    "    [2,3,0,  4,9,0,  0,0,0],\n",
    "    [9,0,0,  0,2,0,  7,0,0],\n",
    "    [4,5,0,  3,0,7,  0,0,9],\n",
    "\n",
    "    [0,0,0,  0,8,2,  6,9,5],\n",
    "    [0,0,0,  0,0,4,  0,8,1],\n",
    "    [0,0,0,  0,0,1,  4,0,2]\n",
    "]\n",
    "\n",
    "# Solve the sudoku\n",
    "solvedMatrix = solve(matrix)\n",
    "\n",
    "# Print both the solved and unsolved version\n",
    "print(\"Unsolved sudoku:\")\n",
    "display(matrix)\n",
    "\n",
    "print(\"\\nSolved sudoku:\")\n",
    "display(solvedMatrix)"
   ]
  }
 ],
 "metadata": {
  "kernelspec": {
   "display_name": "Python 3.10.2 64-bit",
   "language": "python",
   "name": "python3"
  },
  "language_info": {
   "codemirror_mode": {
    "name": "ipython",
    "version": 3
   },
   "file_extension": ".py",
   "mimetype": "text/x-python",
   "name": "python",
   "nbconvert_exporter": "python",
   "pygments_lexer": "ipython3",
   "version": "3.10.2"
  },
  "orig_nbformat": 4,
  "vscode": {
   "interpreter": {
    "hash": "aee8b7b246df8f9039afb4144a1f6fd8d2ca17a180786b69acc140d282b71a49"
   }
  }
 },
 "nbformat": 4,
 "nbformat_minor": 2
}
